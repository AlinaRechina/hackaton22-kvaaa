{
 "cells": [
  {
   "cell_type": "code",
   "execution_count": 2,
   "id": "d6de63db",
   "metadata": {},
   "outputs": [],
   "source": [
    "import pandas as pd\n",
    "import sqlite3"
   ]
  },
  {
   "cell_type": "code",
   "execution_count": 3,
   "id": "25113f5a",
   "metadata": {},
   "outputs": [],
   "source": [
    "df = pd.read_csv(\"plots_with_tfidf.csv\")"
   ]
  },
  {
   "cell_type": "code",
   "execution_count": 5,
   "id": "4b2afae8",
   "metadata": {},
   "outputs": [],
   "source": [
    "df.drop(columns = ['Lem'],axis = 1, inplace=True)"
   ]
  },
  {
   "cell_type": "code",
   "execution_count": 6,
   "id": "20267b68",
   "metadata": {},
   "outputs": [
    {
     "data": {
      "text/html": [
       "<div>\n",
       "<style scoped>\n",
       "    .dataframe tbody tr th:only-of-type {\n",
       "        vertical-align: middle;\n",
       "    }\n",
       "\n",
       "    .dataframe tbody tr th {\n",
       "        vertical-align: top;\n",
       "    }\n",
       "\n",
       "    .dataframe thead th {\n",
       "        text-align: right;\n",
       "    }\n",
       "</style>\n",
       "<table border=\"1\" class=\"dataframe\">\n",
       "  <thead>\n",
       "    <tr style=\"text-align: right;\">\n",
       "      <th></th>\n",
       "      <th>Release Year</th>\n",
       "      <th>Title</th>\n",
       "      <th>Origin/Ethnicity</th>\n",
       "      <th>Director</th>\n",
       "      <th>Cast</th>\n",
       "      <th>Genre</th>\n",
       "      <th>Wiki Page</th>\n",
       "      <th>Plot</th>\n",
       "      <th>FinLem</th>\n",
       "      <th>tfidf</th>\n",
       "    </tr>\n",
       "  </thead>\n",
       "  <tbody>\n",
       "    <tr>\n",
       "      <th>0</th>\n",
       "      <td>1901</td>\n",
       "      <td>Kansas Saloon Smashers</td>\n",
       "      <td>American</td>\n",
       "      <td>Unknown</td>\n",
       "      <td>NaN</td>\n",
       "      <td>unknown</td>\n",
       "      <td>https://en.wikipedia.org/wiki/Kansas_Saloon_Sm...</td>\n",
       "      <td>A bartender is working at a saloon, serving dr...</td>\n",
       "      <td>bartender working saloon serving drink custome...</td>\n",
       "      <td>-0.046329</td>\n",
       "    </tr>\n",
       "    <tr>\n",
       "      <th>1</th>\n",
       "      <td>1901</td>\n",
       "      <td>Love by the Light of the Moon</td>\n",
       "      <td>American</td>\n",
       "      <td>Unknown</td>\n",
       "      <td>NaN</td>\n",
       "      <td>unknown</td>\n",
       "      <td>https://en.wikipedia.org/wiki/Love_by_the_Ligh...</td>\n",
       "      <td>The moon, painted with a smiling face hangs ov...</td>\n",
       "      <td>moon painted smiling face hang park night youn...</td>\n",
       "      <td>-0.020844</td>\n",
       "    </tr>\n",
       "    <tr>\n",
       "      <th>2</th>\n",
       "      <td>1901</td>\n",
       "      <td>The Martyred Presidents</td>\n",
       "      <td>American</td>\n",
       "      <td>Unknown</td>\n",
       "      <td>NaN</td>\n",
       "      <td>unknown</td>\n",
       "      <td>https://en.wikipedia.org/wiki/The_Martyred_Pre...</td>\n",
       "      <td>The film, just over a minute long, is composed...</td>\n",
       "      <td>film minute long composed two shot first girl ...</td>\n",
       "      <td>-0.041631</td>\n",
       "    </tr>\n",
       "  </tbody>\n",
       "</table>\n",
       "</div>"
      ],
      "text/plain": [
       "   Release Year                          Title Origin/Ethnicity Director Cast  \\\n",
       "0          1901         Kansas Saloon Smashers         American  Unknown  NaN   \n",
       "1          1901  Love by the Light of the Moon         American  Unknown  NaN   \n",
       "2          1901        The Martyred Presidents         American  Unknown  NaN   \n",
       "\n",
       "     Genre                                          Wiki Page  \\\n",
       "0  unknown  https://en.wikipedia.org/wiki/Kansas_Saloon_Sm...   \n",
       "1  unknown  https://en.wikipedia.org/wiki/Love_by_the_Ligh...   \n",
       "2  unknown  https://en.wikipedia.org/wiki/The_Martyred_Pre...   \n",
       "\n",
       "                                                Plot  \\\n",
       "0  A bartender is working at a saloon, serving dr...   \n",
       "1  The moon, painted with a smiling face hangs ov...   \n",
       "2  The film, just over a minute long, is composed...   \n",
       "\n",
       "                                              FinLem     tfidf  \n",
       "0  bartender working saloon serving drink custome... -0.046329  \n",
       "1  moon painted smiling face hang park night youn... -0.020844  \n",
       "2  film minute long composed two shot first girl ... -0.041631  "
      ]
     },
     "execution_count": 6,
     "metadata": {},
     "output_type": "execute_result"
    }
   ],
   "source": [
    "df.head(3)"
   ]
  },
  {
   "cell_type": "code",
   "execution_count": 7,
   "id": "e691fb0c",
   "metadata": {},
   "outputs": [],
   "source": [
    "con = sqlite3.connect('alive_plots.db')  # подключение\n",
    "cur = con.cursor()  # курсор"
   ]
  },
  {
   "cell_type": "code",
   "execution_count": 8,
   "id": "ca0823db",
   "metadata": {},
   "outputs": [],
   "source": [
    "cur.execute(\"\"\"\n",
    "CREATE TABLE plots (\n",
    "    Release_Year INT, \n",
    "    Title TEXT, \n",
    "    Origin_Ethnicity TEXT,\n",
    "    Director TEXT,\n",
    "    Cast TEXT,\n",
    "    Genre TEXT,\n",
    "    Wiki_Page TEXT,\n",
    "    Plot TEXT,\n",
    "    FinLem TEXT,\n",
    "    tfidf INT\n",
    ")\n",
    "\"\"\")\n",
    "con.commit()"
   ]
  },
  {
   "cell_type": "code",
   "execution_count": 9,
   "id": "82484c20",
   "metadata": {},
   "outputs": [
    {
     "name": "stdout",
     "output_type": "stream",
     "text": [
      "1000\n",
      "2000\n",
      "3000\n",
      "4000\n",
      "5000\n",
      "6000\n",
      "7000\n",
      "8000\n",
      "9000\n",
      "10000\n",
      "11000\n",
      "12000\n",
      "13000\n",
      "14000\n",
      "15000\n",
      "16000\n",
      "17000\n",
      "18000\n",
      "19000\n",
      "20000\n",
      "21000\n",
      "22000\n",
      "23000\n",
      "24000\n",
      "25000\n",
      "26000\n",
      "27000\n",
      "28000\n",
      "29000\n",
      "30000\n",
      "31000\n",
      "32000\n",
      "33000\n",
      "34000\n"
     ]
    }
   ],
   "source": [
    "for i in range(1,34886):\n",
    "    if i % 1000 == 0:\n",
    "        print(str(i))\n",
    "    cur.execute(\"INSERT INTO plots VALUES (?, ?, ?, ?, ?, ?, ?, ?, ?, ?)\", \n",
    "                df.loc[i])\n",
    "    con.commit()"
   ]
  },
  {
   "cell_type": "code",
   "execution_count": 27,
   "id": "63b49f93",
   "metadata": {},
   "outputs": [],
   "source": [
    "query = \"\"\"\n",
    "SELECT tfidf\n",
    "FROM plots\n",
    "WHERE Title = ?\n",
    "\"\"\"\n",
    "cur.execute(query, ('Love by the Light of the Moon',))\n",
    "tfidf_score = cur.fetchall()[0][0]"
   ]
  },
  {
   "cell_type": "code",
   "execution_count": 28,
   "id": "2f11e215",
   "metadata": {},
   "outputs": [],
   "source": [
    "mini = tfidf_score - 0.0001\n",
    "maxi = tfidf_score + 0.0001"
   ]
  },
  {
   "cell_type": "code",
   "execution_count": 29,
   "id": "02a1d80a",
   "metadata": {},
   "outputs": [
    {
     "data": {
      "text/plain": [
       "[('Love by the Light of the Moon',),\n",
       " ('The Frozen North',),\n",
       " ('Manslaughter',),\n",
       " ('Stop That Man!',),\n",
       " ('Journal of a Crime',),\n",
       " ('Marked Woman',),\n",
       " ('The Bank Dick',),\n",
       " ('Hold Back the Dawn',),\n",
       " ('Mister Bug Goes to Town',),\n",
       " ('Mr. Bug Goes to Town',),\n",
       " ('Crossroads',),\n",
       " ('The Phantom',),\n",
       " ('Enter Arsène Lupin',),\n",
       " ('The Sound of Fury',),\n",
       " ('Summer Stock',),\n",
       " ('The Eddie Cantor Story',),\n",
       " ('The Tattered Dress',),\n",
       " (\"All in a Night's Work\",),\n",
       " ('Hercules in the Haunted World',),\n",
       " ('The Ring of Terror',),\n",
       " ('Shock Corridor',),\n",
       " ('The Fat Spy',),\n",
       " ('More Dead Than Alive',),\n",
       " ('More Dead Than Alive',),\n",
       " (\"Party at Kitty and Stud's\",),\n",
       " ('Oklahoma Crude',),\n",
       " ('Bring Me the Head of Alfredo Garcia',),\n",
       " ('The Gravy Train',),\n",
       " ('Wise Blood',),\n",
       " ('Schizoid',),\n",
       " ('All the Right Moves',),\n",
       " ('Better Late Than Never',),\n",
       " ('My Tutor',),\n",
       " ('Slaves of New York',),\n",
       " ('The People vs. Larry Flynt',),\n",
       " (\"Pinocchio's Revenge\",),\n",
       " ('Bounce',),\n",
       " ('Unbreakable',),\n",
       " ('Frailty',),\n",
       " ('Beauty Shop',),\n",
       " ('The 8th Plague',),\n",
       " ('Confessions of a Shopaholic',),\n",
       " ('Shrink',),\n",
       " ('Dead Awake',),\n",
       " ('Maladies (2012 film)',),\n",
       " ('Mirror Mirror',),\n",
       " ('Grudge Match',),\n",
       " ('Sweetwater',),\n",
       " ('Macbeth',),\n",
       " ('The Prisoner of Corbal',),\n",
       " ('A Run for Your Money',),\n",
       " ('Beat Girl',),\n",
       " ('Mr. Topaze',),\n",
       " ('A Weekend with Lulu',),\n",
       " ('Operation Snatch',),\n",
       " ('Holiday on the Buses',),\n",
       " ('Happy Birthday to Me',),\n",
       " ('Mesmer',),\n",
       " ('The Triplets of Belleville (Les Triplettes de Belleville)',),\n",
       " ('Wild Run: The Legend (Chasse-Galerie: La Légende)',),\n",
       " ('The Wasted Times',),\n",
       " ('Satan Returns',),\n",
       " ('Bad Blood',),\n",
       " ('Anumanaspadam',),\n",
       " ('Kanto Wanderer',),\n",
       " ('Cat, The !The Cat',)]"
      ]
     },
     "execution_count": 29,
     "metadata": {},
     "output_type": "execute_result"
    }
   ],
   "source": [
    "query2 = \"\"\"\n",
    "SELECT Title\n",
    "FROM plots\n",
    "WHERE ? > tfidf AND tfidf > ?\n",
    "\"\"\"\n",
    "cur.execute(query2, (maxi, mini))\n",
    "cur.fetchall()"
   ]
  }
 ],
 "metadata": {
  "kernelspec": {
   "display_name": "Python 3 (ipykernel)",
   "language": "python",
   "name": "python3"
  },
  "language_info": {
   "codemirror_mode": {
    "name": "ipython",
    "version": 3
   },
   "file_extension": ".py",
   "mimetype": "text/x-python",
   "name": "python",
   "nbconvert_exporter": "python",
   "pygments_lexer": "ipython3",
   "version": "3.8.9"
  }
 },
 "nbformat": 4,
 "nbformat_minor": 5
}
