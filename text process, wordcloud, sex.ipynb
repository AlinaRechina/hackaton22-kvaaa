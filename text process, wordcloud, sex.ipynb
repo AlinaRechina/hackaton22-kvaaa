{
 "cells": [
  {
   "cell_type": "code",
   "execution_count": 1,
   "id": "37bee58f",
   "metadata": {},
   "outputs": [],
   "source": [
    "import pandas as pd"
   ]
  },
  {
   "cell_type": "code",
   "execution_count": null,
   "id": "5ce2179a",
   "metadata": {},
   "outputs": [],
   "source": [
    "data = pd.read_csv(\"wiki_movie_plots_deduped.csv\", sep=\",\")"
   ]
  },
  {
   "cell_type": "markdown",
   "id": "b6242374",
   "metadata": {},
   "source": [
    "## Обработка текста"
   ]
  },
  {
   "cell_type": "code",
   "execution_count": null,
   "id": "760ab33d",
   "metadata": {},
   "outputs": [],
   "source": [
    "from pymorphy2 import MorphAnalyzer\n",
    "from nltk.tokenize import wordpunct_tokenize\n",
    "from wordcloud import WordCloud\n",
    "import nltk\n",
    "import matplotlib.pyplot as plt\n",
    "from nltk.corpus import stopwords\n",
    "from nltk.stem import WordNetLemmatizer\n",
    " \n",
    "lemmatizer = WordNetLemmatizer()"
   ]
  },
  {
   "cell_type": "code",
   "execution_count": null,
   "id": "34bc49a8",
   "metadata": {},
   "outputs": [],
   "source": [
    "morph = MorphAnalyzer()\n",
    "stops = set(stopwords.words('english'))"
   ]
  },
  {
   "cell_type": "code",
   "execution_count": null,
   "id": "a86a5d65",
   "metadata": {},
   "outputs": [],
   "source": [
    "def lemmatize(x):\n",
    "        if type(x) != str:\n",
    "            return \"\"\n",
    "        x = x.lower()\n",
    "        text = wordpunct_tokenize(x)\n",
    "        result = []\n",
    "        for word in text:\n",
    "            if word not in stops:\n",
    "                result.append(lemmatizer.lemmatize(word))\n",
    "        return \" \".join(result)"
   ]
  },
  {
   "cell_type": "code",
   "execution_count": null,
   "id": "65e78f76",
   "metadata": {},
   "outputs": [],
   "source": [
    "data[\"FinLem\"] = data.Lem.apply(lambda x: lemmatize(x))"
   ]
  },
  {
   "cell_type": "code",
   "execution_count": null,
   "id": "640218a4",
   "metadata": {},
   "outputs": [],
   "source": [
    "data.head(1)"
   ]
  },
  {
   "cell_type": "markdown",
   "id": "b4c3916a",
   "metadata": {},
   "source": [
    "### Ключевые слова по эпохам (прошлое и будущее)"
   ]
  },
  {
   "cell_type": "code",
   "execution_count": null,
   "id": "b9cf5ffe",
   "metadata": {},
   "outputs": [],
   "source": [
    "rslt_df45 = data[data['Release Year'] < 1945]\n",
    "oblako45 = \"\"\n",
    "for i in rslt_df45.FinLem:\n",
    "    oblako45 += i\n",
    "\n",
    "wordcloud = WordCloud(\n",
    "    width = 800,\n",
    "    height = 800, \n",
    ").generate(oblako45)\n",
    "\n",
    "plt.figure(figsize = (10, 8), facecolor = None) \n",
    "plt.imshow(wordcloud)\n",
    "plt.axis(\"off\") \n",
    "plt.title('Облако слов из названий произведений (без стоп слов)')\n",
    "plt.show(color = \"pink\")"
   ]
  },
  {
   "cell_type": "code",
   "execution_count": null,
   "id": "0b6710fd",
   "metadata": {},
   "outputs": [],
   "source": [
    "rslt_df13 = data[data['Release Year'] > 2010]\n",
    "oblako13 = \"\"\n",
    "for i in rslt_df13.FinLem:\n",
    "    oblako13 += i"
   ]
  },
  {
   "cell_type": "code",
   "execution_count": null,
   "id": "278a4885",
   "metadata": {},
   "outputs": [],
   "source": [
    "wordcloud = WordCloud(\n",
    "    background_color ='white',\n",
    "    width = 800,\n",
    "    height = 800, \n",
    ").generate(oblako13)\n",
    "\n",
    "plt.figure(figsize = (8, 8), facecolor = None) \n",
    "plt.imshow(wordcloud)\n",
    "plt.axis(\"off\") \n",
    "plt.title('Облако слов из названий произведений (без стоп слов)')\n",
    "plt.show()"
   ]
  },
  {
   "cell_type": "code",
   "execution_count": null,
   "id": "db61d1ac",
   "metadata": {},
   "outputs": [],
   "source": []
  },
  {
   "cell_type": "markdown",
   "id": "07b2f9d6",
   "metadata": {},
   "source": [
    "## Сексуальная революция?"
   ]
  },
  {
   "cell_type": "code",
   "execution_count": null,
   "id": "48f4d94c",
   "metadata": {},
   "outputs": [],
   "source": [
    "data[\"Love\"] = data.FinLem.apply(lambda x: x.count(\"love\"))"
   ]
  },
  {
   "cell_type": "code",
   "execution_count": null,
   "id": "387e4cff",
   "metadata": {},
   "outputs": [],
   "source": [
    "data[\"Sex\"] = data.FinLem.apply(lambda x: x.count(\"sex\"))"
   ]
  },
  {
   "cell_type": "code",
   "execution_count": null,
   "id": "10349178",
   "metadata": {},
   "outputs": [],
   "source": [
    "data.groupby([\"Release Year\"])[\"Love\", \"Sex\"].sum().Sex"
   ]
  },
  {
   "cell_type": "code",
   "execution_count": null,
   "id": "25a5c740",
   "metadata": {},
   "outputs": [],
   "source": [
    "import matplotlib.pyplot as plt\n",
    "\n",
    "df1 = data.groupby([\"Release Year\"])[[\"Love\"]].sum()\n",
    "df1.unstack().plot(label=\"love\", color = \"pink\")\n",
    "df2 = data.groupby([\"Release Year\"])[[\"Sex\"]].sum()\n",
    "df2.unstack().plot(label=\"sex\", color = \"purple\")\n",
    "plt.xlabel(\"Год\")\n",
    "plt.ylabel(\"Кол-во вхождений\")\n",
    "plt.title(\"Любовь и Секс\")\n",
    "plt.legend()"
   ]
  },
  {
   "cell_type": "markdown",
   "id": "7531b65d",
   "metadata": {},
   "source": [
    "красивее"
   ]
  },
  {
   "cell_type": "code",
   "execution_count": null,
   "id": "11e08c23",
   "metadata": {},
   "outputs": [],
   "source": [
    "def generate_better_wordcloud(data, title, mask=None):\n",
    "    cloud = WordCloud(scale=3,\n",
    "                      max_words=150,\n",
    "                      colormap='RdYlGn',\n",
    "                      mask=mask,\n",
    "                      background_color='white',\n",
    "                      collocations=True).generate_from_text(data)\n",
    "    plt.figure(figsize=(10,8))\n",
    "    plt.imshow(cloud)\n",
    "    plt.axis('off')\n",
    "    plt.title(title)\n",
    "    plt.show()\n",
    "    \n",
    "# Use the function with the rome_corpus and our mask to create word cloud     \n",
    "generate_better_wordcloud(oblako45, 'Rome, Italy', mask=rome_mask)"
   ]
  }
 ],
 "metadata": {
  "kernelspec": {
   "display_name": "Python 3",
   "language": "python",
   "name": "python3"
  },
  "language_info": {
   "codemirror_mode": {
    "name": "ipython",
    "version": 3
   },
   "file_extension": ".py",
   "mimetype": "text/x-python",
   "name": "python",
   "nbconvert_exporter": "python",
   "pygments_lexer": "ipython3",
   "version": "3.8.8"
  }
 },
 "nbformat": 4,
 "nbformat_minor": 5
}
